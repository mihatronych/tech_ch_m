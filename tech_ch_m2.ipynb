{
  "nbformat": 4,
  "nbformat_minor": 0,
  "metadata": {
    "colab": {
      "name": "tech_ch_m2.ipynb",
      "provenance": [],
      "authorship_tag": "ABX9TyMksc0I8KP3OjoOxb9L1pJc",
      "include_colab_link": true
    },
    "kernelspec": {
      "name": "python3",
      "display_name": "Python 3"
    },
    "language_info": {
      "name": "python"
    }
  },
  "cells": [
    {
      "cell_type": "markdown",
      "metadata": {
        "id": "view-in-github",
        "colab_type": "text"
      },
      "source": [
        "<a href=\"https://colab.research.google.com/github/mihatronych/tech_ch_m/blob/main/tech_ch_m2.ipynb\" target=\"_parent\"><img src=\"https://colab.research.google.com/assets/colab-badge.svg\" alt=\"Open In Colab\"/></a>"
      ]
    },
    {
      "cell_type": "code",
      "metadata": {
        "colab": {
          "base_uri": "https://localhost:8080/"
        },
        "id": "NxjZvriy9jMq",
        "outputId": "ad926d45-77b7-4a80-d801-d9f5a2383e30"
      },
      "source": [
        "!pip install urllib3"
      ],
      "execution_count": 12,
      "outputs": [
        {
          "output_type": "stream",
          "name": "stdout",
          "text": [
            "\u001b[31mERROR: Could not find a version that satisfies the requirement urllib2 (from versions: none)\u001b[0m\n",
            "\u001b[31mERROR: No matching distribution found for urllib2\u001b[0m\n"
          ]
        }
      ]
    },
    {
      "cell_type": "code",
      "metadata": {
        "colab": {
          "base_uri": "https://localhost:8080/"
        },
        "id": "mvTmU05v8Lah",
        "outputId": "ea043516-2a91-4c75-aaa5-655c3fcd3a80"
      },
      "source": [
        "import urllib3 as urllib\n",
        "# If you are using Python 3+, import urllib instead of urllib2\n",
        "import certifi\n",
        "import json \n",
        "\n",
        "\n",
        "data =  {\n",
        "\n",
        "        \"Inputs\": {\n",
        "\n",
        "                \"input1\":\n",
        "                {\n",
        "                    \"ColumnNames\": [\"age\", \"workclass\", \"fnlwgt\", \"education\", \"education-num\", \"marital-status\", \"occupation\", \"relationship\", \"race\", \"sex\", \"capital-gain\", \"capital-loss\", \"hours-per-week\", \"native-country\",'income'],\n",
        "                    \"Values\": [ [ \"56\", \"Local-gov\", \"216851\", \"Bachelors\", \"13\", \"Married-civ-spouse\", \"Tech-support\", \"Husband\", \"White\", \"Male\", \"0\", \"0\", \"40\", \"United-States\",'0' ] ]\n",
        "                },        },\n",
        "            \"GlobalParameters\": {\n",
        "}\n",
        "    }\n",
        "\n",
        "body = json.dumps(data).encode('utf-8')\n",
        "\n",
        "url = 'https://ussouthcentral.services.azureml.net/workspaces/e8b8184898ec4e7b9d5d675e608b71ce/services/ce974e1e6ae04bac93b8d96fd79c63ba/execute?api-version=2.0&details=true'\n",
        "api_key = 'HZlyB8w0qKngn8AA78C4d2ScvRRtagopy6wL3dCjYUm73xBb8uGzOxpZsQRh++2NCSffEt/K6CHe6bm3P8IH5w==' # Replace this with the API key for the web service\n",
        "headers = {'Content-Type':'application/json', 'Authorization':('Bearer '+ api_key)}\n",
        "http = urllib.PoolManager(cert_reqs='CERT_REQUIRED',ca_certs=certifi.where())\n",
        "r = http.request('POST', url, body=body, headers=headers) \n",
        "\n",
        "print(r.status)\n",
        "print(json.loads(r.data.decode('utf-8'))) "
      ],
      "execution_count": 25,
      "outputs": [
        {
          "output_type": "stream",
          "name": "stdout",
          "text": [
            "200\n",
            "{'Results': {'output1': {'type': 'table', 'value': {'ColumnNames': ['age', 'workclass', 'fnlwgt', 'education', 'education-num', 'marital-status', 'occupation', 'relationship', 'race', 'sex', 'capital-gain', 'capital-loss', 'hours-per-week', 'native-country', 'income', 'Scored Labels', 'Scored Probabilities'], 'ColumnTypes': ['Int32', 'String', 'Int32', 'String', 'Int32', 'String', 'String', 'String', 'String', 'String', 'Int32', 'Int32', 'Int32', 'String', 'String', 'String', 'Double'], 'Values': [['56', 'Local-gov', '216851', 'Bachelors', '13', 'Married-civ-spouse', 'Tech-support', 'Husband', 'White', 'Male', '0', '0', '40', 'United-States', '0', '>50K', '0.829980075359344']]}}}}\n"
          ]
        }
      ]
    }
  ]
}