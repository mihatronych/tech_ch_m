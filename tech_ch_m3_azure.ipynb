{
  "nbformat": 4,
  "nbformat_minor": 0,
  "metadata": {
    "colab": {
      "name": "tech_ch_m3 azure.ipynb",
      "provenance": [],
      "authorship_tag": "ABX9TyMJrTf0b295FNJ6wc0U1cvQ",
      "include_colab_link": true
    },
    "kernelspec": {
      "name": "python3",
      "display_name": "Python 3"
    },
    "language_info": {
      "name": "python"
    }
  },
  "cells": [
    {
      "cell_type": "markdown",
      "metadata": {
        "id": "view-in-github",
        "colab_type": "text"
      },
      "source": [
        "<a href=\"https://colab.research.google.com/github/mihatronych/tech_ch_m/blob/main/tech_ch_m3_azure.ipynb\" target=\"_parent\"><img src=\"https://colab.research.google.com/assets/colab-badge.svg\" alt=\"Open In Colab\"/></a>"
      ]
    },
    {
      "cell_type": "code",
      "metadata": {
        "colab": {
          "base_uri": "https://localhost:8080/"
        },
        "id": "LFyzR51K6T0i",
        "outputId": "ed55f2b8-76e5-44a8-ea39-e57d4926e761"
      },
      "source": [
        "!pip install urllib3"
      ],
      "execution_count": 1,
      "outputs": [
        {
          "output_type": "stream",
          "name": "stdout",
          "text": [
            "Requirement already satisfied: urllib3 in /usr/local/lib/python3.7/dist-packages (1.24.3)\n"
          ]
        }
      ]
    },
    {
      "cell_type": "code",
      "metadata": {
        "id": "R0y9MmCD6e1E"
      },
      "source": [
        "import urllib3 as urllib\n",
        "# If you are using Python 3+, import urllib instead of urllib2\n",
        "import certifi\n",
        "import json "
      ],
      "execution_count": 2,
      "outputs": []
    },
    {
      "cell_type": "code",
      "metadata": {
        "colab": {
          "base_uri": "https://localhost:8080/"
        },
        "id": "dUmJqTIy7CmG",
        "outputId": "018aa2fa-d4a6-47da-c84a-6c864881e19e"
      },
      "source": [
        "height = 180 #@param {type:\"number\", min:0}\n",
        "gender = 'Female' #@param [\"Male\", \"Female\"]\n",
        "weight = 0\n",
        "height *= 0.3937008\n",
        "\n",
        "data =  {\n",
        "\n",
        "        \"Inputs\": {\n",
        "\n",
        "                \"input1\":\n",
        "                {\n",
        "                    \"ColumnNames\": [\"Gender\", \"Height\", \"Weight\"],\n",
        "                    \"Values\": [ [ gender, height, weight ] ]\n",
        "                },        },\n",
        "            \"GlobalParameters\": {\n",
        "}\n",
        "    }\n",
        "\n",
        "body = json.dumps(data).encode('utf-8')\n",
        "if gender == \"Male\":\n",
        "  url = 'https://ussouthcentral.services.azureml.net/workspaces/8bdc869a87074defb9c66511f02d85cd/services/e670587eb1f04854aabfb9451a322e5f/execute?api-version=2.0&details=true'\n",
        "  api_key = 'r1kic65X7d4M47ookCxZjvkddiK076/LClQcLQo+T6C53PZtLERO3U7zdLXjoBCDDidqQANxosf233FC8k+yuw==' # Replace this with the API key for the web service\n",
        "  headers = {'Content-Type':'application/json', 'Authorization':('Bearer '+ api_key)}\n",
        "  http = urllib.PoolManager(cert_reqs='CERT_REQUIRED',ca_certs=certifi.where())\n",
        "  r = http.request('POST', url, body=body, headers=headers) \n",
        "else:\n",
        "  url = 'https://ussouthcentral.services.azureml.net/workspaces/8bdc869a87074defb9c66511f02d85cd/services/ee7d959c6bc640ba90892d3c4c241ef2/execute?api-version=2.0&details=true'\n",
        "  api_key = 'S/1omeFNLBkxTMBiUohdZYp4bCh6/YOCsTyxqKXSqRE3OIHHmmYCbJVxqTkbrkDCUiI1I6rqRRyMvqcFgtRFDQ==' # Replace this with the API key for the web service\n",
        "  headers = {'Content-Type':'application/json', 'Authorization':('Bearer '+ api_key)}\n",
        "  http = urllib.PoolManager(cert_reqs='CERT_REQUIRED',ca_certs=certifi.where())\n",
        "  r = http.request('POST', url, body=body, headers=headers) \n",
        "\n",
        "#print(r.status)\n",
        "#print(json.loads(r.data.decode('utf-8'))) \n",
        "print(\"Предполагаемый вес: \"+str(json.loads(json.loads(r.data.decode('utf-8'))['Results']['output1']['value']['Values'][0][-1])/ 2.205) + \" кг\")"
      ],
      "execution_count": 26,
      "outputs": [
        {
          "output_type": "stream",
          "name": "stdout",
          "text": [
            "Предполагаемый вес: 80.8799858833306 кг\n"
          ]
        }
      ]
    }
  ]
}