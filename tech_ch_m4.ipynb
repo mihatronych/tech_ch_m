{
  "nbformat": 4,
  "nbformat_minor": 0,
  "metadata": {
    "colab": {
      "name": "tech_ch_m2.ipynb",
      "provenance": [],
      "authorship_tag": "ABX9TyP5agHuCUJ7qcgzVfSjrtKt",
      "include_colab_link": true
    },
    "kernelspec": {
      "name": "python3",
      "display_name": "Python 3"
    },
    "language_info": {
      "name": "python"
    }
  },
  "cells": [
    {
      "cell_type": "markdown",
      "metadata": {
        "id": "view-in-github",
        "colab_type": "text"
      },
      "source": [
        "<a href=\"https://colab.research.google.com/github/mihatronych/tech_ch_m/blob/main/tech_ch_m2.ipynb\" target=\"_parent\"><img src=\"https://colab.research.google.com/assets/colab-badge.svg\" alt=\"Open In Colab\"/></a>"
      ]
    },
    {
      "cell_type": "code",
      "metadata": {
        "colab": {
          "base_uri": "https://localhost:8080/"
        },
        "id": "NxjZvriy9jMq",
        "outputId": "d0d28c07-0e9c-4360-c53e-979aef43ccef"
      },
      "source": [
        "!pip install urllib3"
      ],
      "execution_count": 1,
      "outputs": [
        {
          "output_type": "stream",
          "name": "stdout",
          "text": [
            "Requirement already satisfied: urllib3 in /usr/local/lib/python3.7/dist-packages (1.24.3)\n"
          ]
        }
      ]
    },
    {
      "cell_type": "code",
      "metadata": {
        "colab": {
          "base_uri": "https://localhost:8080/"
        },
        "id": "mvTmU05v8Lah",
        "outputId": "b9a2a56b-3ab4-44d5-8de4-caac896ff1b9"
      },
      "source": [
        "import urllib3 as urllib\n",
        "# If you are using Python 3+, import urllib instead of urllib2\n",
        "import certifi\n",
        "import json \n",
        "\n",
        "age = 56 #@param {type:\"number\", min:18}\n",
        "workclass = 'Local-gov' #@param [\"Private\", \"Self-emp-not-inc\", \"Local-gov\", \"State-gov\", \"Self-emp-inc\", \"Federal-gov\", \"Without-pay\", \"Never-worked\"]\n",
        "fnlwgt = 216851 #@param {type:\"number\", min:0}\n",
        "education = 'Bachelors' #@param [\"HS-grad\", \"Some-college\", \"Bachelors\", \"Masters\", \"Assoc-voc\", \"11th\", \"Assoc-acdm\", \"10th\", \"7th-8th\", \"Prof-school\"]\n",
        "education_num = 13 #@param {type:\"number\", min:1, max:16 }\n",
        "marital_status = 'Married-civ-spouse' #@param [\"Married-civ-spouse\", \"Never-married\", \"Divorced\", \"Separated\", \"Widowed\", \"Married-spouse-absent\", \"Married-AF-spouse\"]\n",
        "occupation = 'Tech-support' #@param [\"Prof-specialty\", \"Craft-repair\", \"Exec-managerial\", \"Adm-clerical\", \"Sales\", \"Other-service\", \"Machine-op-inspct\", \"Transport-moving\", \"Handlers-cleaners\", \"Farming-fishing\", \"Tech-support\"]{allow-input: true}\n",
        "relationship = 'Husband' #@param [\"Husband\", \"Not-in-family\", \"Own-child\", \"Unmarried\", \"Wife\", \"Other-relative\"]\n",
        "race = 'White' #@param [\"White\", \"Black\", \"Asian-Pac-Islander\", \"Asian-Indian-Eskimo\", \"Other\"]\n",
        "sex = 'Male' #@param [\"Male\", \"Female\"]\n",
        "capital_gain = 0 #@param {type:\"number\", min:0}\n",
        "capital_loss = 0 #@param {type:\"number\", min:0}\n",
        "hours_per_week = 40 #@param {type:\"number\", min:0, min:100}\n",
        "native_country = 'United-States' #@param [\"United-States\", \"Mexico\", \"Philippines\", \"Geramny\", \"Puerto-Rico\", \"El-Salvador\", \"India\", \"Cuba\", \"England\", \"Other\"]\n",
        "\n",
        "\n",
        "data =  {\n",
        "\n",
        "        \"Inputs\": {\n",
        "\n",
        "                \"input1\":\n",
        "                {\n",
        "                    \"ColumnNames\": [\"age\", \"workclass\", \"fnlwgt\", \"education\", \"education-num\", \"marital-status\", \"occupation\", \"relationship\", \"race\", \"sex\", \"capital-gain\", \"capital-loss\", \"hours-per-week\", \"native-country\",'income'],\n",
        "                    \"Values\": [ [ str(age), workclass, str(fnlwgt), education, str(education_num), marital_status, occupation, relationship, race, sex, str(capital_gain), str(capital_loss), str(hours_per_week), native_country,'0' ] ]\n",
        "                },        },\n",
        "            \"GlobalParameters\": {\n",
        "}\n",
        "    }\n",
        "\n",
        "body = json.dumps(data).encode('utf-8')\n",
        "\n",
        "url = 'https://ussouthcentral.services.azureml.net/workspaces/e8b8184898ec4e7b9d5d675e608b71ce/services/ce974e1e6ae04bac93b8d96fd79c63ba/execute?api-version=2.0&details=true'\n",
        "api_key = 'HZlyB8w0qKngn8AA78C4d2ScvRRtagopy6wL3dCjYUm73xBb8uGzOxpZsQRh++2NCSffEt/K6CHe6bm3P8IH5w==' # Replace this with the API key for the web service\n",
        "headers = {'Content-Type':'application/json', 'Authorization':('Bearer '+ api_key)}\n",
        "http = urllib.PoolManager(cert_reqs='CERT_REQUIRED',ca_certs=certifi.where())\n",
        "r = http.request('POST', url, body=body, headers=headers) \n",
        "\n",
        "#print(r.status)\n",
        "#print(json.loads(r.data.decode('utf-8'))) \n",
        "print(\"Предполагаемый доход: \"+json.loads(r.data.decode('utf-8'))['Results']['output1']['value']['Values'][0][-2]+\"; с вероятностью: \"+json.loads(r.data.decode('utf-8'))['Results']['output1']['value']['Values'][0][-1][2:4]+\"%\")"
      ],
      "execution_count": 33,
      "outputs": [
        {
          "output_type": "stream",
          "name": "stdout",
          "text": [
            "Предполагаемый доход: >50K; с вероятностью: 82%\n"
          ]
        }
      ]
    },
    {
      "cell_type": "code",
      "metadata": {
        "id": "3mfyijw77jFD"
      },
      "source": [
        ""
      ],
      "execution_count": null,
      "outputs": []
    }
  ]
}
